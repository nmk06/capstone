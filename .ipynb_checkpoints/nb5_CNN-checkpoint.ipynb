{
 "cells": [
  {
   "cell_type": "code",
   "execution_count": 2,
   "metadata": {},
   "outputs": [],
   "source": [
    "# CNN Algorithm Creation\n",
    "# MLP Accuracy Obtained Using Nodes: 128, Epochs: 100\n",
    "# Training: 95.988%, Testing: 90.66%"
   ]
  },
  {
   "cell_type": "code",
   "execution_count": 3,
   "metadata": {},
   "outputs": [],
   "source": [
    "# Import libraries\n",
    "import librosa\n",
    "import numpy as np\n",
    "import os"
   ]
  },
  {
   "cell_type": "code",
   "execution_count": 36,
   "metadata": {},
   "outputs": [],
   "source": [
    "# Test MFCC values of Longer Vs. Shorter Samples\n",
    "# Creating a function that extracts the MFCC features of an audio file\n",
    "def extract_features(file_name, max_pad_len):\n",
    "    \n",
    "    try:\n",
    "        \n",
    "        # Librosa extraction of audio array and sampling rate\n",
    "        audio, sample_rate = librosa.load(file_name, res_type='kaiser_fast') # resampling at a \"faster rate as opposed to higher quality\"\n",
    "        # MFCC feature extraction of audio - mfccs is mfcc sequence (array), n_mfcc is number of MFCCs to return\n",
    "        mfccs = librosa.feature.mfcc(y=audio, sr=sample_rate, n_mfcc=40)\n",
    "        # If the number of frames is less than the max_pad_len, zero-pad up to max_pad_len\n",
    "        pad_width = max_pad_len - mfccs.shape[1]\n",
    "        mfccs = np.pad(mfccs, pad_width=((0, 0), (0, pad_width)), mode='constant')\n",
    "\n",
    "    except Exception as e:\n",
    "        print(\"Error encountered while parsing file \", file_name)\n",
    "        return None\n",
    "    \n",
    "    return mfccs"
   ]
  },
  {
   "cell_type": "code",
   "execution_count": 39,
   "metadata": {},
   "outputs": [
    {
     "name": "stdout",
     "output_type": "stream",
     "text": [
      "173\n",
      "Finished feature extraction from  2732  files\n"
     ]
    }
   ],
   "source": [
    "# Load various imports \n",
    "import pandas as pd\n",
    "import os\n",
    "import librosa\n",
    "\n",
    "# Set the path to the full UrbanSound dataset\n",
    "cwd = os.getcwd()\n",
    "fulldatasetpath = cwd + '/UrbanSound8K/audio/'\n",
    "metadata = pd.read_csv(cwd + \"//UrbanSound8K//metadata//UrbanSound8K.csv\")\n",
    "categories = ['dog_bark', 'car_horn', 'gun_shot', 'siren']\n",
    "\n",
    "lenVars = []\n",
    "\n",
    "# Iterate through each sound file and extract the number of frames \n",
    "for index, row in metadata.iterrows():\n",
    "    \n",
    "    # Extract filename and category\n",
    "    category_str = row[\"class_name\"]\n",
    "    \n",
    "    # Loop through metadata comparing the categories\n",
    "    if category_str in categories:\n",
    "        # Extract MFCCs \n",
    "        file_name = os.path.join(os.path.abspath(fulldatasetpath),'fold'+str(row[\"fold\"])+'/',str(row[\"slice_file_name\"]))\n",
    "        audio, sample_rate = librosa.load(file_name, res_type='kaiser_fast') \n",
    "        mfccs_pre = librosa.feature.mfcc(y=audio, sr=sample_rate, n_mfcc=40)\n",
    "        numFrames = mfccs_pre.shape[1]\n",
    "        lenVars.append(numFrames)\n",
    "    else:\n",
    "        continue\n",
    "\n",
    "# Extract max number of frames\n",
    "max_pad_length = max(lenVars)\n",
    "\n",
    "features = []\n",
    "\n",
    "# Iterate through each sound file and extract the features \n",
    "for index, row in metadata.iterrows():\n",
    "    \n",
    "    # Extract filename and category\n",
    "    category_str = row[\"class_name\"]\n",
    "    \n",
    "    # Loop through metadata comparing the categories\n",
    "    if category_str in categories:\n",
    "    \n",
    "        file_name = os.path.join(os.path.abspath(fulldatasetpath),'fold'+str(row[\"fold\"])+'/',str(row[\"slice_file_name\"]))\n",
    "        class_label = row[\"class_name\"]\n",
    "        data = extract_features(file_name, max_pad_length)\n",
    "        features.append([data, class_label])\n",
    "        \n",
    "    else:\n",
    "        continue\n",
    "        \n",
    "# Convert into a Panda dataframe \n",
    "featuresdf = pd.DataFrame(features, columns=['feature','class_label'])\n",
    "\n",
    "print('Finished feature extraction from ', len(featuresdf), ' files')"
   ]
  },
  {
   "cell_type": "code",
   "execution_count": 40,
   "metadata": {},
   "outputs": [
    {
     "name": "stderr",
     "output_type": "stream",
     "text": [
      "Using TensorFlow backend.\n"
     ]
    }
   ],
   "source": [
    "# Use sklearn.preprocessing.LabelEncoder to encode the categorical text data into model-understandable numerical data\n",
    "\n",
    "from sklearn.preprocessing import LabelEncoder\n",
    "from keras.utils import to_categorical\n",
    "\n",
    "# Convert features and corresponding classification labels into numpy arrays\n",
    "X = np.array(featuresdf.feature.tolist())\n",
    "y = np.array(featuresdf.class_label.tolist())\n",
    "\n",
    "#This part will convert the categories into their respective numerical value\n",
    "le = LabelEncoder()\n",
    "# Fit transform receives categories and assigns numerical value to them. to_categorical converts to binary matrix\n",
    "yy = to_categorical(le.fit_transform(y))\n",
    "\n",
    "# split the dataset - 10% test, 90% train\n",
    "from sklearn.model_selection import train_test_split \n",
    "\n",
    "# X is feature, Y is labels\n",
    "# 42 is the seed to generating random numbers - starting position, integer required to ensure training and testing are consistent\n",
    "x_train, x_test, y_train, y_test = train_test_split(X, yy, test_size=0.1, random_state = 42)"
   ]
  },
  {
   "cell_type": "code",
   "execution_count": 41,
   "metadata": {},
   "outputs": [
    {
     "name": "stdout",
     "output_type": "stream",
     "text": [
      "Stored 'x_train' (ndarray)\n",
      "Stored 'x_test' (ndarray)\n",
      "Stored 'y_test' (ndarray)\n",
      "Stored 'y_train' (ndarray)\n",
      "Stored 'yy' (ndarray)\n",
      "Stored 'le' (LabelEncoder)\n"
     ]
    }
   ],
   "source": [
    "# Store data into next notebook\n",
    "%store x_train\n",
    "%store x_test\n",
    "%store y_test\n",
    "%store y_train\n",
    "%store yy\n",
    "%store le\n",
    "%store max_pad_length"
   ]
  },
  {
   "cell_type": "code",
   "execution_count": null,
   "metadata": {},
   "outputs": [],
   "source": []
  }
 ],
 "metadata": {
  "kernelspec": {
   "display_name": "Python 3",
   "language": "python",
   "name": "python3"
  },
  "language_info": {
   "codemirror_mode": {
    "name": "ipython",
    "version": 3
   },
   "file_extension": ".py",
   "mimetype": "text/x-python",
   "name": "python",
   "nbconvert_exporter": "python",
   "pygments_lexer": "ipython3",
   "version": "3.7.4"
  }
 },
 "nbformat": 4,
 "nbformat_minor": 4
}
