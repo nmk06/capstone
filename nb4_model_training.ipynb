{
 "cells": [
  {
   "cell_type": "code",
   "execution_count": 2,
   "metadata": {},
   "outputs": [],
   "source": [
    "# Model Training and Evaluation\n",
    "\n",
    "# Retrieve previously stored variables\n",
    "%store -r x_train # train samples: 2185\n",
    "%store -r x_test # testing samples: 547\n",
    "%store -r y_train # categories train: 2185\n",
    "%store -r y_test # \n",
    "%store -r yy # total samples\n",
    "%store -r le"
   ]
  },
  {
   "cell_type": "code",
   "execution_count": 36,
   "metadata": {},
   "outputs": [
    {
     "data": {
      "text/plain": [
       "array([-3.19514862e+02,  1.39700089e+02, -1.12087608e+02, -4.92915726e+01,\n",
       "       -1.74340093e+00, -5.69976540e+01, -4.37130013e+01, -6.43806553e+00,\n",
       "       -1.52856960e+01, -2.53208313e+01, -1.17009325e+01, -7.51425409e+00,\n",
       "       -9.69702148e+00, -2.19402933e+00,  7.07967758e+00,  1.73335800e+01,\n",
       "        1.20680609e+01, -1.13923674e+01, -1.51345863e+01, -3.63308001e+00,\n",
       "        3.87587762e+00,  1.19124365e+01,  5.14146280e+00, -9.87630939e+00,\n",
       "       -6.61446285e+00,  2.29413822e-01, -5.05282927e+00, -3.69123459e+00,\n",
       "        7.10211515e+00,  8.15948486e+00,  2.64397812e+00,  9.79319692e-01,\n",
       "       -1.59480238e+00, -1.82388520e+00,  2.49361086e+00,  5.21429539e+00,\n",
       "        1.82872808e+00, -6.47891617e+00, -5.83984756e+00,  2.10689330e+00],\n",
       "      dtype=float32)"
      ]
     },
     "metadata": {},
     "output_type": "display_data"
    },
    {
     "name": "stdout",
     "output_type": "stream",
     "text": [
      "2185\n"
     ]
    },
    {
     "data": {
      "text/plain": [
       "2732"
      ]
     },
     "metadata": {},
     "output_type": "display_data"
    },
    {
     "name": "stdout",
     "output_type": "stream",
     "text": [
      "547\n",
      "(2185, 40)\n"
     ]
    }
   ],
   "source": [
    "display(x_train[1])\n",
    "print(len(y_train))\n",
    "display(len(yy))\n",
    "print(len(x_test))\n",
    "print(x_train.shape)"
   ]
  },
  {
   "cell_type": "code",
   "execution_count": 37,
   "metadata": {},
   "outputs": [
    {
     "name": "stderr",
     "output_type": "stream",
     "text": [
      "Using TensorFlow backend.\n"
     ]
    }
   ],
   "source": [
    "# Import libraries\n",
    "import numpy as np\n",
    "from keras.models import Sequential\n",
    "from keras.layers import Dense, Dropout, Activation, Flatten\n",
    "from keras.layers import Convolution2D, MaxPooling2D\n",
    "from keras.optimizers import Adam\n",
    "from keras.utils import np_utils\n",
    "from sklearn import metrics \n",
    "\n",
    "# Extract the number of labels - 4 in our case\n",
    "num_labels = yy.shape[1]\n",
    "\n",
    "# Begin constructing ML model\n",
    "# Create an object of the Sequential class\n",
    "model = Sequential()\n",
    "\n",
    "# Create input layer using the Dense function\n",
    "numNodes = 64; # Trial and error - 1/4 of 256 bit\n",
    "numMFCC = 40;\n",
    "# Input shape is the size of the input array (1-D array of 40 columns, 1 row)\n",
    "model.add(Dense(numNodes, input_shape=(numMFCC,)));\n",
    "# Specifying the activation function to be used - relu: Rectified Linear Activiation\n",
    "model.add(Activation('relu'))\n",
    "# Dropout value of 50% - means random half of neurons exluded from each update cycle. Used to prevent overfitting.\n",
    "model.add(Dropout(0.5))\n",
    "\n",
    "\n",
    "# Add subsequest hidden layer - DENSE function\n",
    "model.add(Dense(numNodes))\n",
    "model.add(Activation('relu'))\n",
    "model.add(Dropout(0.5))\n",
    "\n",
    "# Add the output layer - DENSE function\n",
    "# Output nodes is the different categories\n",
    "# Different usage of activation function\n",
    "model.add(Dense(num_labels))\n",
    "model.add(Activation('softmax'))"
   ]
  },
  {
   "cell_type": "code",
   "execution_count": 38,
   "metadata": {},
   "outputs": [],
   "source": [
    "# Compile the model\n",
    "# Optimizer \"adam\" is a typical optimizer used - variation SGD (stochastic gradient descent)\n",
    "# SGD utilizes the gradient of the loss function with respects to the weight\n",
    "# loss -> typical loss function \n",
    "# metrics is output to be displayed (accuracy is the output of the loss function (?))\n",
    "model.compile(loss='categorical_crossentropy', metrics=['accuracy'], optimizer='adam')"
   ]
  },
  {
   "cell_type": "code",
   "execution_count": 39,
   "metadata": {},
   "outputs": [
    {
     "name": "stdout",
     "output_type": "stream",
     "text": [
      "Model: \"sequential_1\"\n",
      "_________________________________________________________________\n",
      "Layer (type)                 Output Shape              Param #   \n",
      "=================================================================\n",
      "dense_1 (Dense)              (None, 64)                2624      \n",
      "_________________________________________________________________\n",
      "activation_1 (Activation)    (None, 64)                0         \n",
      "_________________________________________________________________\n",
      "dropout_1 (Dropout)          (None, 64)                0         \n",
      "_________________________________________________________________\n",
      "dense_2 (Dense)              (None, 64)                4160      \n",
      "_________________________________________________________________\n",
      "activation_2 (Activation)    (None, 64)                0         \n",
      "_________________________________________________________________\n",
      "dropout_2 (Dropout)          (None, 64)                0         \n",
      "_________________________________________________________________\n",
      "dense_3 (Dense)              (None, 4)                 260       \n",
      "_________________________________________________________________\n",
      "activation_3 (Activation)    (None, 4)                 0         \n",
      "=================================================================\n",
      "Total params: 7,044\n",
      "Trainable params: 7,044\n",
      "Non-trainable params: 0\n",
      "_________________________________________________________________\n"
     ]
    }
   ],
   "source": [
    "# Display model architecture summary \n",
    "model.summary()"
   ]
  },
  {
   "cell_type": "code",
   "execution_count": null,
   "metadata": {},
   "outputs": [],
   "source": []
  },
  {
   "cell_type": "code",
   "execution_count": null,
   "metadata": {},
   "outputs": [],
   "source": []
  }
 ],
 "metadata": {
  "kernelspec": {
   "display_name": "Python 3",
   "language": "python",
   "name": "python3"
  },
  "language_info": {
   "codemirror_mode": {
    "name": "ipython",
    "version": 3
   },
   "file_extension": ".py",
   "mimetype": "text/x-python",
   "name": "python",
   "nbconvert_exporter": "python",
   "pygments_lexer": "ipython3",
   "version": "3.7.4"
  }
 },
 "nbformat": 4,
 "nbformat_minor": 4
}
