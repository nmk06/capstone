{
 "cells": [
  {
   "cell_type": "code",
   "execution_count": 1,
   "metadata": {},
   "outputs": [],
   "source": [
    "#Extracting Features for every audio file\n",
    "\n",
    "import librosa\n",
    "import librosa.display\n",
    "from scipy.io import wavfile as wav\n",
    "import IPython.display as ipd\n",
    "import numpy as np\n",
    "import os\n",
    "import matplotlib.pyplot as plt\n",
    "import pandas as pd\n",
    "\n",
    "# Creating a function that extracts the MFCC features of an audio file\n",
    "def extract_features(file_name):\n",
    "    \n",
    "    try:\n",
    "        \n",
    "        # Librosa extraction of audio array and sampling rate\n",
    "        audio, sample_rate = librosa.load(file_name, res_type='kaiser_fast') # resampling at a \"faster rate as opposed to higher quality\"\n",
    "        # MFCC feature extraction of audio - mfccs is mfcc sequence (array), n_mfcc is number of MFCCs to return\n",
    "        mfccs = librosa.feature.mfcc(y=audio, sr=sample_rate, n_mfcc=40)\n",
    "        \n",
    "        # why ????\n",
    "        mfccsscaled = np.mean(mfccs.T, axis=0) # transpose and get mean of the samples\n",
    "        \n",
    "    except Exception as e:\n",
    "        print(\"Error encountered while parsing file \", file_name)\n",
    "        return None\n",
    "    \n",
    "    return mfccsscaled\n",
    "\n",
    "\n",
    "\n"
   ]
  },
  {
   "cell_type": "code",
   "execution_count": 2,
   "metadata": {},
   "outputs": [
    {
     "name": "stdout",
     "output_type": "stream",
     "text": [
      "Finished feature extraction from  2732 files\n"
     ]
    },
    {
     "data": {
      "text/html": [
       "<div>\n",
       "<style scoped>\n",
       "    .dataframe tbody tr th:only-of-type {\n",
       "        vertical-align: middle;\n",
       "    }\n",
       "\n",
       "    .dataframe tbody tr th {\n",
       "        vertical-align: top;\n",
       "    }\n",
       "\n",
       "    .dataframe thead th {\n",
       "        text-align: right;\n",
       "    }\n",
       "</style>\n",
       "<table border=\"1\" class=\"dataframe\">\n",
       "  <thead>\n",
       "    <tr style=\"text-align: right;\">\n",
       "      <th></th>\n",
       "      <th>feature</th>\n",
       "      <th>class_label</th>\n",
       "    </tr>\n",
       "  </thead>\n",
       "  <tbody>\n",
       "    <tr>\n",
       "      <td>0</td>\n",
       "      <td>[-215.793, 71.66612, -131.81377, -52.09133, -2...</td>\n",
       "      <td>dog_bark</td>\n",
       "    </tr>\n",
       "    <tr>\n",
       "      <td>1</td>\n",
       "      <td>[-196.18529, 114.94507, -14.661183, 1.2298628,...</td>\n",
       "      <td>car_horn</td>\n",
       "    </tr>\n",
       "    <tr>\n",
       "      <td>2</td>\n",
       "      <td>[-202.99028, 111.43653, -28.663649, 14.733859,...</td>\n",
       "      <td>car_horn</td>\n",
       "    </tr>\n",
       "    <tr>\n",
       "      <td>3</td>\n",
       "      <td>[-206.0117, 90.92227, -25.063507, 29.089552, -...</td>\n",
       "      <td>car_horn</td>\n",
       "    </tr>\n",
       "    <tr>\n",
       "      <td>4</td>\n",
       "      <td>[-204.60738, 103.652916, -29.975658, 27.412031...</td>\n",
       "      <td>car_horn</td>\n",
       "    </tr>\n",
       "    <tr>\n",
       "      <td>...</td>\n",
       "      <td>...</td>\n",
       "      <td>...</td>\n",
       "    </tr>\n",
       "    <tr>\n",
       "      <td>2727</td>\n",
       "      <td>[-399.22574, 136.81903, -51.96422, 37.023987, ...</td>\n",
       "      <td>car_horn</td>\n",
       "    </tr>\n",
       "    <tr>\n",
       "      <td>2728</td>\n",
       "      <td>[-346.72726, 87.488495, -46.265022, 52.748856,...</td>\n",
       "      <td>car_horn</td>\n",
       "    </tr>\n",
       "    <tr>\n",
       "      <td>2729</td>\n",
       "      <td>[-304.6132, 112.61994, -47.161945, 37.003487, ...</td>\n",
       "      <td>car_horn</td>\n",
       "    </tr>\n",
       "    <tr>\n",
       "      <td>2730</td>\n",
       "      <td>[-344.7142, 126.758156, -56.17717, 36.070923, ...</td>\n",
       "      <td>car_horn</td>\n",
       "    </tr>\n",
       "    <tr>\n",
       "      <td>2731</td>\n",
       "      <td>[-315.9338, 95.67589, -38.047775, 47.50074, -7...</td>\n",
       "      <td>car_horn</td>\n",
       "    </tr>\n",
       "  </tbody>\n",
       "</table>\n",
       "<p>2732 rows × 2 columns</p>\n",
       "</div>"
      ],
      "text/plain": [
       "                                                feature class_label\n",
       "0     [-215.793, 71.66612, -131.81377, -52.09133, -2...    dog_bark\n",
       "1     [-196.18529, 114.94507, -14.661183, 1.2298628,...    car_horn\n",
       "2     [-202.99028, 111.43653, -28.663649, 14.733859,...    car_horn\n",
       "3     [-206.0117, 90.92227, -25.063507, 29.089552, -...    car_horn\n",
       "4     [-204.60738, 103.652916, -29.975658, 27.412031...    car_horn\n",
       "...                                                 ...         ...\n",
       "2727  [-399.22574, 136.81903, -51.96422, 37.023987, ...    car_horn\n",
       "2728  [-346.72726, 87.488495, -46.265022, 52.748856,...    car_horn\n",
       "2729  [-304.6132, 112.61994, -47.161945, 37.003487, ...    car_horn\n",
       "2730  [-344.7142, 126.758156, -56.17717, 36.070923, ...    car_horn\n",
       "2731  [-315.9338, 95.67589, -38.047775, 47.50074, -7...    car_horn\n",
       "\n",
       "[2732 rows x 2 columns]"
      ]
     },
     "metadata": {},
     "output_type": "display_data"
    }
   ],
   "source": [
    "# Set the path to the full UrbanSound dataset\n",
    "cwd = os.getcwd()\n",
    "categories = ['dog_bark', 'car_horn', 'gun_shot', 'siren']\n",
    "metadata = pd.read_csv(cwd + \"//UrbanSound8K//metadata//UrbanSound8K.csv\")\n",
    "\n",
    "features = []\n",
    "\n",
    "for index, row in metadata.iterrows():\n",
    "    \n",
    "    # Extract filename and category\n",
    "    category_str = row[\"class_name\"]\n",
    "    \n",
    "    \n",
    "    # Loop through metadata comparing the categories\n",
    "    if category_str in categories:\n",
    "        file_name = os.path.join(os.path.abspath(cwd + \"//UrbanSound8K//audio//\"),'fold'+str(row[\"fold\"])+'//',str(row[\"slice_file_name\"]))\n",
    "        # Extract features for each wave file\n",
    "        data = extract_features(file_name)\n",
    "        features.append([data, category_str])\n",
    "#        print(data)\n",
    "#        print('hold. post transpose below')\n",
    "#        print(features)\n",
    "#        break\n",
    "    else:\n",
    "        continue\n",
    "\n",
    "# Convert into a Panda dataframee\n",
    "featuresdf = pd.DataFrame(features, columns=['feature','class_label'])\n",
    "\n",
    "print('Finished feature extraction from ',len(featuresdf), 'files')\n",
    "display(featuresdf)"
   ]
  },
  {
   "cell_type": "code",
   "execution_count": 46,
   "metadata": {},
   "outputs": [
    {
     "data": {
      "text/plain": [
       "array(['dog_bark', 'car_horn', 'car_horn', ..., 'car_horn', 'car_horn',\n",
       "       'car_horn'], dtype='<U8')"
      ]
     },
     "metadata": {},
     "output_type": "display_data"
    },
    {
     "data": {
      "text/plain": [
       "array([[0., 0., 0., 1.],\n",
       "       [0., 0., 1., 0.],\n",
       "       [0., 1., 0., 0.],\n",
       "       [1., 0., 0., 0.]], dtype=float32)"
      ]
     },
     "metadata": {},
     "output_type": "display_data"
    },
    {
     "name": "stdout",
     "output_type": "stream",
     "text": [
      "[[0. 1. 0. 0.]\n",
      " [1. 0. 0. 0.]\n",
      " [1. 0. 0. 0.]\n",
      " ...\n",
      " [1. 0. 0. 0.]\n",
      " [1. 0. 0. 0.]\n",
      " [1. 0. 0. 0.]]\n"
     ]
    }
   ],
   "source": [
    "# Use sklearn.preprocessing.LabelEncoder to encode the categorical text data into model-understandable numerical data\n",
    "\n",
    "from sklearn.preprocessing import LabelEncoder\n",
    "from keras.utils import to_categorical\n",
    "\n",
    "# Convert features and corresponding classification labels into numpy arrays\n",
    "X = np.array(featuresdf.feature.tolist())\n",
    "y = np.array(featuresdf.class_label.tolist())\n",
    "\n",
    "display(y)\n",
    "\n",
    "#This part will convert the categories into their respective numerical value\n",
    "le = LabelEncoder()\n",
    "# Fit transform receives categories and assigns numerical value to them. to_categorical converts to binary matrix\n",
    "yy = to_categorical(le.fit_transform(y))\n",
    "unique_rows = np.unique(yy, axis=0)\n",
    "display(unique_rows)"
   ]
  },
  {
   "cell_type": "code",
   "execution_count": 49,
   "metadata": {},
   "outputs": [],
   "source": [
    "# Split the Data \n",
    "# Need to split for training vs. testing (80% vs. 20%)\n",
    "\n",
    "from sklearn.model_selection import train_test_split\n",
    "\n",
    "# X is feature, Y is labels\n",
    "# 42 is the seed to generating random numbers - starting position, integer required to ensure training and testing are consistent\n",
    "x_train, x_test, y_train, y_test = train_test_split(X, yy, test_size=0.2, random_state=42)\n"
   ]
  },
  {
   "cell_type": "code",
   "execution_count": 48,
   "metadata": {},
   "outputs": [
    {
     "name": "stdout",
     "output_type": "stream",
     "text": [
      "Stored 'x_train' (ndarray)\n",
      "Stored 'x_test' (ndarray)\n",
      "Stored 'y_test' (ndarray)\n",
      "Stored 'y_train' (ndarray)\n",
      "Stored 'yy' (ndarray)\n",
      "Stored 'le' (LabelEncoder)\n"
     ]
    }
   ],
   "source": [
    "# Store data into next notebook\n",
    "%store x_train\n",
    "%store x_test\n",
    "%store y_test\n",
    "%store y_train\n",
    "%store yy\n",
    "%store le"
   ]
  },
  {
   "cell_type": "code",
   "execution_count": null,
   "metadata": {},
   "outputs": [],
   "source": []
  }
 ],
 "metadata": {
  "kernelspec": {
   "display_name": "Python 3",
   "language": "python",
   "name": "python3"
  },
  "language_info": {
   "codemirror_mode": {
    "name": "ipython",
    "version": 3
   },
   "file_extension": ".py",
   "mimetype": "text/x-python",
   "name": "python",
   "nbconvert_exporter": "python",
   "pygments_lexer": "ipython3",
   "version": "3.7.4"
  }
 },
 "nbformat": 4,
 "nbformat_minor": 4
}
